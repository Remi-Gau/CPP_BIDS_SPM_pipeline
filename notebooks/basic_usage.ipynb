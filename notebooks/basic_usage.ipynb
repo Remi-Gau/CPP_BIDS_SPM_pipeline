{
 "cells": [
  {
   "cell_type": "code",
   "execution_count": 1,
   "metadata": {
    "scrolled": true
   },
   "outputs": [
    {
     "name": "stdout",
     "output_type": "stream",
     "text": [
      "warning: function /home/remi/github/CPP_BIDS_SPM_pipeline/notebooks/../lib/spmup/external/cubehelix.m shadows a core library function\n",
      "___________________________________________________________________________\n",
      "___________________________________________________________________________\n",
      "                                                   \n",
      "                 __  ____  ____     _      _    _  \n",
      "                / _)(  _ \\(  _ \\   | |    / \\  | ) \n",
      "               ( (_  )___/ )___/   | |_  / _ \\ | \\ \n",
      "                \\__)(__)  (__)     |___||_/ \\_||__)\n",
      "                                                   \n",
      "Thank you for using the CPP lap pipeline - version v0.1.0. \n",
      "\n",
      "Current list of contributors includes\n",
      " Mohamed Rezk\n",
      " Rémi Gau\n",
      " Olivier Collignon\n",
      " Ane Gurtubay\n",
      " Marco Barilari\n",
      " Ceren Battal\n",
      "\b\n",
      "\n",
      "Please cite using the following DOI: \n",
      " https://doi.org/10.5281/zenodo.3554331.\n",
      "\n",
      "For bug report & suggestions see our github repo: \n",
      " https://github.com/cpp-lln-lab/CPP_BIDS_SPM_pipeline\n",
      "\n",
      "___________________________________________________________________________\n",
      "___________________________________________________________________________\n",
      "\n",
      "\n",
      "Checking dependencies\n",
      " Using SPM12 7487\n",
      "Defaults settings have been modified by file(s):\n",
      "  /home/remi/github/CPP_BIDS_SPM_pipeline/notebooks/../src/defaults/spm_my_defaults.m\n",
      "Modified fields: ui mat stats realign \n",
      " Nifti tools detected\n",
      " We got all we need. Let's get to work.\n"
     ]
    }
   ],
   "source": [
    "% Add SPM to the path. In a matlab prompt, you can type this to find the answer --> spm('dir')\n",
    "addpath('/home/remi/matlab/SPM/spm12');\n",
    "\n",
    "% we add all the subfunctions that are in the sub directories\n",
    "addpath(genpath(fullfile(pwd, '..', 'src')));\n",
    "addpath(genpath(fullfile(pwd, '..', 'lib')));\n",
    "\n",
    "checkDependencies();"
   ]
  },
  {
   "cell_type": "code",
   "execution_count": 6,
   "metadata": {},
   "outputs": [
    {
     "name": "stdout",
     "output_type": "stream",
     "text": [
      "Options saved in: \r\n",
      "\r\n"
     ]
    }
   ],
   "source": [
    "% task to analyze\n",
    "opt.taskName = 'auditory';\n",
    "\n",
    "% Uncomment the line below to run preprocessing in \"native\" space.\n",
    "% - use realign and unwarp\n",
    "% - don't do normalization\n",
    "% opt.space = 'individual';\n",
    "\n",
    "% The directory where the data are located\n",
    "opt.dataDir = fullfile(pwd, 'output', 'MoAEpilot');\n",
    "\n",
    "opt.model.file = fullfile('..', 'demos', 'MoAEpilot', 'models', 'model-MoAE_smdl.json');\n",
    "\n",
    "% specify the result to compute\n",
    "opt.result.Steps(1) = struct( ...\n",
    "                           'Level',  'subject', ...\n",
    "                           'Contrasts', struct( ...\n",
    "                                               'Name', 'listening', ... % has to match\n",
    "                                               'Mask', false, ...\n",
    "                                               'MC', 'FWE', ... FWE, none, FDR\n",
    "                                               'p', 0.05, ...\n",
    "                                               'k', 0, ...\n",
    "                                               'NIDM', true));\n",
    "\n",
    "opt.result.Steps(1).Contrasts(2) = struct( ...\n",
    "                                        'Name', 'listening_inf_baseline', ...\n",
    "                                        'Mask', false, ...\n",
    "                                        'MC', 'none', ... FWE, none, FDR\n",
    "                                        'p', 0.01, ...\n",
    "                                        'k', 0, ...\n",
    "                                        'NIDM', true);\n",
    "\n",
    "opt = checkOptions(opt);\n",
    "saveOptions(opt);"
   ]
  },
  {
   "cell_type": "code",
   "execution_count": 3,
   "metadata": {},
   "outputs": [
    {
     "name": "stdout",
     "output_type": "stream",
     "text": [
      "Downloading dataset...                  :"
     ]
    }
   ],
   "source": [
    "% URL of the data set to download\n",
    "URL = 'http://www.fil.ion.ucl.ac.uk/spm/download/data/MoAEpilot/MoAEpilot.bids.zip';\n",
    "\n",
    "%% Get data\n",
    "fprintf('%-40s:', 'Downloading dataset...');\n",
    "urlwrite(URL, 'MoAEpilot.zip');\n",
    "unzip('MoAEpilot.zip', fullfile(pwd, 'output'));"
   ]
  },
  {
   "cell_type": "code",
   "execution_count": 4,
   "metadata": {},
   "outputs": [
    {
     "name": "stdout",
     "output_type": "stream",
     "text": [
      "\u001b[01;34moutput/\u001b[00m\r\n",
      "└── \u001b[01;34mMoAEpilot\u001b[00m\r\n",
      "    ├── CHANGES\r\n",
      "    ├── dataset_description.json\r\n",
      "    ├── README\r\n",
      "    ├── \u001b[01;34msub-01\u001b[00m\r\n",
      "    │   ├── \u001b[01;34manat\u001b[00m\r\n",
      "    │   │   └── sub-01_T1w.nii\r\n",
      "    │   └── \u001b[01;34mfunc\u001b[00m\r\n",
      "    │       ├── sub-01_task-auditory_bold.nii\r\n",
      "    │       └── sub-01_task-auditory_events.tsv\r\n",
      "    └── task-auditory_bold.json\r\n",
      "\r\n",
      "4 directories, 7 files\r\n",
      "\n"
     ]
    }
   ],
   "source": [
    "!tree output/"
   ]
  },
  {
   "cell_type": "code",
   "execution_count": 12,
   "metadata": {
    "scrolled": true
   },
   "outputs": [
    {
     "name": "stdout",
     "output_type": "stream",
     "text": [
      "\n",
      "-------------------------\n",
      "  Reading BIDS: /home/remi/github/CPP_BIDS_SPM_pipeline/notebooks/output/MoAEpilot\n",
      "-------------------------\n",
      "Done.\n",
      "\n",
      "Working on anat...\n",
      " - /home/remi/github/CPP_BIDS_SPM_pipeline/notebooks/output/MoAEpilot/sub-01/anat/sub-01_T1w.nii\n",
      "  Opening file /home/remi/github/CPP_BIDS_SPM_pipeline/notebooks/output/MoAEpilot/sub-01/anat/sub-01_T1w.nii.\n",
      "\n",
      " ANAT REPORT \n",
      "T1w [XXXX] [XXXX] structural MRI data were collected (54 slices; \n",
      "repetition time, TR= [XXXX] ms; echo time, TE= [XXXX] ms; flip angle, FA=[XXXX] deg; \n",
      "field of view, FOV= 256.00 X 256.00 mm; matrix size= 256 X 256; voxel size= 1.00 X 1.00 X 3.00 mm) \n",
      "\n",
      "\n",
      "Working on func...\n",
      " - /home/remi/github/CPP_BIDS_SPM_pipeline/notebooks/output/MoAEpilot/sub-01/func/sub-01_task-auditory_bold.nii\n",
      "  Opening file /home/remi/github/CPP_BIDS_SPM_pipeline/notebooks/output/MoAEpilot/sub-01/func/sub-01_task-auditory_bold.nii.\n",
      "\n",
      " FUNC REPORT \n",
      "1 run(s) of auditory [XXXX] [XXXX] fMRI data were collected (64 slices acquired in a [XXXX] fashion; repetition time, TR= 7000 ms; \n",
      "echo time, TE= [XXXX] ms; flip angle, FA= [XXXX] deg; field of view, FOV= 192.00 X 192.00 mm; matrix size= 64 X 64; \n",
      "voxel size= 3.00 X 3.00 X 3.00 mm; multiband factor= [XXXX]; in-plane acceleration factor= [XXXX]). Each run was 9.8 minutes in length, during which \n",
      "84 functional volumes were acquired. \n",
      "\n",
      "\n",
      "\n",
      "warning: events not supported yet\n",
      "warning: called from\n",
      "    report at line 282 column 17\n",
      "    reportBIDS at line 5 column 3\n"
     ]
    }
   ],
   "source": [
    "% TODO\n",
    "% reportBIDS(opt)"
   ]
  },
  {
   "cell_type": "code",
   "execution_count": 10,
   "metadata": {},
   "outputs": [
    {
     "name": "stdout",
     "output_type": "stream",
     "text": [
      "\n",
      "Options are locked & loaded.\n",
      "\n",
      "derivatives directory created: /home/remi/github/CPP_BIDS_SPM_pipeline/notebooks/output/MoAEpilot/../derivatives/SPM12_CPPL \n",
      " json files copied to derivatives directory \n",
      "FOR TASK: auditory\n",
      "WILL WORK ON SUBJECTS\n",
      "\n",
      "{\n",
      "  [1,1] = 01\n",
      "}\n",
      "folder copied: sub-01 \n"
     ]
    }
   ],
   "source": [
    "bidsCopyRawFolder(opt, 1);"
   ]
  },
  {
   "cell_type": "code",
   "execution_count": 11,
   "metadata": {
    "scrolled": true
   },
   "outputs": [
    {
     "name": "stdout",
     "output_type": "stream",
     "text": [
      "\u001b[01;34moutput/\u001b[00m\r\n",
      "├── \u001b[01;34mderivatives\u001b[00m\r\n",
      "│   └── \u001b[01;34mSPM12_CPPL\u001b[00m\r\n",
      "│       ├── dataset_description.json\r\n",
      "│       ├── \u001b[01;34msub-01\u001b[00m\r\n",
      "│       │   ├── \u001b[01;34manat\u001b[00m\r\n",
      "│       │   │   └── sub-01_T1w.nii\r\n",
      "│       │   └── \u001b[01;34mfunc\u001b[00m\r\n",
      "│       │       ├── sub-01_task-auditory_bold.nii\r\n",
      "│       │       └── sub-01_task-auditory_events.tsv\r\n",
      "│       └── task-auditory_bold.json\r\n",
      "└── \u001b[01;34mMoAEpilot\u001b[00m\r\n",
      "    ├── CHANGES\r\n",
      "    ├── dataset_description.json\r\n",
      "    ├── README\r\n",
      "    ├── \u001b[01;34msub-01\u001b[00m\r\n",
      "    │   ├── \u001b[01;34manat\u001b[00m\r\n",
      "    │   │   └── sub-01_T1w.nii\r\n",
      "    │   └── \u001b[01;34mfunc\u001b[00m\r\n",
      "    │       ├── sub-01_task-auditory_bold.nii\r\n",
      "    │       └── sub-01_task-auditory_events.tsv\r\n",
      "    └── task-auditory_bold.json\r\n",
      "\r\n",
      "9 directories, 12 files\r\n",
      "\n"
     ]
    }
   ],
   "source": [
    "!tree output/"
   ]
  },
  {
   "cell_type": "code",
   "execution_count": 13,
   "metadata": {},
   "outputs": [
    {
     "name": "stdout",
     "output_type": "stream",
     "text": [
      "\n",
      "Options are locked & loaded.\n",
      "\n",
      "FOR TASK: auditory\n",
      "WILL WORK ON SUBJECTS\n",
      "\n",
      "{\n",
      "  [1,1] = 01\n",
      "}\n",
      "DOING SLICE TIME CORRECTION\n",
      " PROCESSING GROUP: SUBJECT No.: 1 SUBJECT ID : 01 \n",
      " SLICE TIMING INFORMATION COULD NOT BE EXTRACTED FROM METADATA.\n",
      " CHECKING IF SPECIFIED IN opt IN THE \"getOption\" FUNCTION.\n",
      "\n",
      " SLICE TIMING INFORMATION COULD NOT BE EXTRACTED.\n",
      "warning: SKIPPING SLICE TIME CORRECTION: no slice timing specified.\\n\\n\n",
      "warning: called from\n",
      "    getSliceOrder at line 50 column 7\n",
      "    setBatchSTC at line 23 column 14\n",
      "    bidsSTC at line 51 column 19\n",
      "warning: No slice order dectected: skipping slice timing correction.\n",
      "warning: called from\n",
      "    setBatchSTC at line 25 column 5\n",
      "    bidsSTC at line 51 column 19\n"
     ]
    }
   ],
   "source": [
    "% TODO\n",
    "% bidsSTC(opt)"
   ]
  },
  {
   "cell_type": "code",
   "execution_count": 14,
   "metadata": {},
   "outputs": [
    {
     "name": "stdout",
     "output_type": "stream",
     "text": [
      "\n",
      "Options are locked & loaded.\n",
      "\n",
      "FOR TASK: auditory\n",
      "WILL WORK ON SUBJECTS\n",
      "\n",
      "{\n",
      "  [1,1] = 01\n",
      "}\n",
      "DOING SPATIAL PREPROCESSING\n",
      " PROCESSING GROUP: SUBJECT No.: 1 SUBJECT ID : 01 \n",
      " BUILDING SPATIAL JOB : SELECTING ANATOMCAL\n",
      " BUILDING SPATIAL JOB : REALIGN\n",
      " /home/remi/github/CPP_BIDS_SPM_pipeline/notebooks/output/derivatives/SPM12_CPPL/sub-01/func/sub-01_task-auditory_bold.nii\n",
      " BUILDING SPATIAL JOB : COREGISTER\n",
      " BUILDING SPATIAL JOB : SEGMENT ANATOMICAL\n",
      " BUILDING SPATIAL JOB : SKULL STRIPPING\n",
      " BUILDING SPATIAL JOB : NORMALIZE FUNCTIONALS\n",
      " BUILDING SPATIAL JOB : NORMALIZE FUNCIONAL\n",
      " BUILDING SPATIAL JOB : NORMALIZE STRUCTURAL\n",
      " BUILDING SPATIAL JOB : NORMALIZE GREY MATTER\n",
      " BUILDING SPATIAL JOB : NORMALIZE WHITE MATTER\n",
      " BUILDING SPATIAL JOB : NORMALIZE CSF\n",
      "Initialising batch system... mv: cannot move '/home/remi/matlab/SPM/spm12/toolbox/.' to '/home/remi/matlab/SPM/spm12/toolbox/MACS/.': Device or resource busy\n",
      "done.\n",
      "\n",
      "\n",
      "------------------------------------------------------------------------\n",
      "01-Nov-2020 08:51:16 - Running job #1\n",
      "------------------------------------------------------------------------\n",
      "01-Nov-2020 08:51:18 - Running 'Named File Selector'\n",
      "01-Nov-2020 08:51:18 - Done    'Named File Selector'\n",
      "01-Nov-2020 08:51:19 - Running 'Realign: Estimate & Reslice'\n",
      "\n",
      "SPM12: spm_realign (v7141)                         08:51:19 - 01/11/2020\n",
      "========================================================================\n",
      "Completed                               :          08:52:29 - 01/11/2020\n",
      "\n",
      "SPM12: spm_reslice (v7141)                         08:52:29 - 01/11/2020\n",
      "========================================================================\n",
      "Completed                               :          08:52:36 - 01/11/2020\n",
      "01-Nov-2020 08:52:36 - Done    'Realign: Estimate & Reslice'\n",
      "01-Nov-2020 08:52:36 - Running 'Coregister: Estimate'\n",
      "\n",
      "SPM12: spm_coreg (v7320)                           08:52:36 - 01/11/2020\n",
      "========================================================================\n",
      "Completed                               :          08:52:45 - 01/11/2020\n",
      "01-Nov-2020 08:52:46 - Done    'Coregister: Estimate'\n",
      "01-Nov-2020 08:52:46 - Running 'Save Variables'\n",
      "01-Nov-2020 08:52:46 - Done    'Save Variables'\n",
      "01-Nov-2020 08:52:46 - Running 'Segment'\n",
      "\n",
      "SPM12: spm_preproc_run (v7408)                     08:52:46 - 01/11/2020\n",
      "========================================================================\n",
      "Segment /home/remi/github/CPP_BIDS_SPM_pipeline/notebooks/output/derivatives/SPM12_CPPL/sub-01/anat/sub-01_T1w.nii\n",
      "Completed                               :          08:56:53 - 01/11/2020\n",
      "01-Nov-2020 08:56:53 - Done    'Segment'\n",
      "01-Nov-2020 08:56:55 - Running 'Image Calculator'\n",
      "\n",
      "SPM12: spm_imcalc (v6961)                          08:56:55 - 01/11/2020\n",
      "========================================================================\n",
      "ImCalc Image: /home/remi/github/CPP_BIDS_SPM_pipeline/notebooks/output/derivatives/SPM12_CPPL/sub-01/anat/msub-01_T1w_skullstripped.nii\n",
      "01-Nov-2020 08:56:55 - Done    'Image Calculator'\n",
      "01-Nov-2020 08:56:55 - Running 'Image Calculator'\n",
      "\n",
      "SPM12: spm_imcalc (v6961)                          08:56:55 - 01/11/2020\n",
      "========================================================================\n",
      "ImCalc Image: /home/remi/github/CPP_BIDS_SPM_pipeline/notebooks/output/derivatives/SPM12_CPPL/sub-01/anat/msub-01_T1w_mask.nii\n",
      "01-Nov-2020 08:56:55 - Done    'Image Calculator'\n",
      "01-Nov-2020 08:56:55 - Running 'Normalise: Write'\n",
      "01-Nov-2020 08:56:56 - Failed  'Normalise: Write'\n",
      "file2mat.c not compiled - see Makefile\n",
      "In file \"/home/remi/matlab/SPM/spm12/@file_array/private/file2mat.m\" (v7147), function \"file2mat\" at line 16.\n",
      "In file \"/home/remi/matlab/SPM/spm12/@file_array/subsref.m\" (v7439), function \"subsref>multifile2mat\" at line 179.\n",
      "In file \"/home/remi/matlab/SPM/spm12/@file_array/subsref.m\" (v7439), function \"subsref>subfun\" at line 99.\n",
      "In file \"/home/remi/matlab/SPM/spm12/@file_array/subsref.m\" (v7439), function \"subsref\" at line 65.\n",
      "In file \"/home/remi/matlab/SPM/spm12/@nifti/subsref.m\" (v7147), function \"subsref>rec\" at line 221.\n",
      "In file \"/home/remi/matlab/SPM/spm12/@nifti/subsref.m\" (v7147), function \"subsref\" at line 45.\n",
      "In file \"/home/remi/matlab/SPM/spm12/spm_deformations.m\" (v6577), function \"spm_deformations>get_def\" at line 192.\n",
      "In file \"/home/remi/matlab/SPM/spm12/spm_deformations.m\" (v6577), function \"spm_deformations>get_job\" at line 78.\n",
      "In file \"/home/remi/matlab/SPM/spm12/spm_deformations.m\" (v6577), function \"spm_deformations>get_comp\" at line 48.\n",
      "In file \"/home/remi/matlab/SPM/spm12/spm_deformations.m\" (v6577), function \"spm_deformations\" at line 17.\n",
      "In file \"/home/remi/matlab/SPM/spm12/config/spm_run_norm.m\" (v7406), function \"spm_run_norm>write_norm\" at line 111.\n",
      "In file \"/home/remi/matlab/SPM/spm12/config/spm_run_norm.m\" (v7406), function \"spm_run_norm\" at line 29.\n",
      "\n",
      "01-Nov-2020 08:56:56 - Running 'Normalise: Write'\n",
      "01-Nov-2020 08:56:56 - Failed  'Normalise: Write'\n",
      "file2mat.c not compiled - see Makefile\n",
      "In file \"/home/remi/matlab/SPM/spm12/@file_array/private/file2mat.m\" (v7147), function \"file2mat\" at line 16.\n",
      "In file \"/home/remi/matlab/SPM/spm12/@file_array/subsref.m\" (v7439), function \"subsref>multifile2mat\" at line 179.\n",
      "In file \"/home/remi/matlab/SPM/spm12/@file_array/subsref.m\" (v7439), function \"subsref>subfun\" at line 99.\n",
      "In file \"/home/remi/matlab/SPM/spm12/@file_array/subsref.m\" (v7439), function \"subsref\" at line 65.\n",
      "In file \"/home/remi/matlab/SPM/spm12/@nifti/subsref.m\" (v7147), function \"subsref>rec\" at line 221.\n",
      "In file \"/home/remi/matlab/SPM/spm12/@nifti/subsref.m\" (v7147), function \"subsref\" at line 45.\n",
      "In file \"/home/remi/matlab/SPM/spm12/spm_deformations.m\" (v6577), function \"spm_deformations>get_def\" at line 192.\n",
      "In file \"/home/remi/matlab/SPM/spm12/spm_deformations.m\" (v6577), function \"spm_deformations>get_job\" at line 78.\n",
      "In file \"/home/remi/matlab/SPM/spm12/spm_deformations.m\" (v6577), function \"spm_deformations>get_comp\" at line 48.\n",
      "In file \"/home/remi/matlab/SPM/spm12/spm_deformations.m\" (v6577), function \"spm_deformations\" at line 17.\n",
      "In file \"/home/remi/matlab/SPM/spm12/config/spm_run_norm.m\" (v7406), function \"spm_run_norm>write_norm\" at line 111.\n",
      "In file \"/home/remi/matlab/SPM/spm12/config/spm_run_norm.m\" (v7406), function \"spm_run_norm\" at line 29.\n",
      "\n",
      "01-Nov-2020 08:56:56 - Running 'Normalise: Write'\n",
      "01-Nov-2020 08:56:57 - Failed  'Normalise: Write'\n",
      "file2mat.c not compiled - see Makefile\n",
      "In file \"/home/remi/matlab/SPM/spm12/@file_array/private/file2mat.m\" (v7147), function \"file2mat\" at line 16.\n",
      "In file \"/home/remi/matlab/SPM/spm12/@file_array/subsref.m\" (v7439), function \"subsref>multifile2mat\" at line 179.\n",
      "In file \"/home/remi/matlab/SPM/spm12/@file_array/subsref.m\" (v7439), function \"subsref>subfun\" at line 99.\n",
      "In file \"/home/remi/matlab/SPM/spm12/@file_array/subsref.m\" (v7439), function \"subsref\" at line 65.\n",
      "In file \"/home/remi/matlab/SPM/spm12/@nifti/subsref.m\" (v7147), function \"subsref>rec\" at line 221.\n",
      "In file \"/home/remi/matlab/SPM/spm12/@nifti/subsref.m\" (v7147), function \"subsref\" at line 45.\n",
      "In file \"/home/remi/matlab/SPM/spm12/spm_deformations.m\" (v6577), function \"spm_deformations>get_def\" at line 192.\n",
      "In file \"/home/remi/matlab/SPM/spm12/spm_deformations.m\" (v6577), function \"spm_deformations>get_job\" at line 78.\n",
      "In file \"/home/remi/matlab/SPM/spm12/spm_deformations.m\" (v6577), function \"spm_deformations>get_comp\" at line 48.\n",
      "In file \"/home/remi/matlab/SPM/spm12/spm_deformations.m\" (v6577), function \"spm_deformations\" at line 17.\n",
      "In file \"/home/remi/matlab/SPM/spm12/config/spm_run_norm.m\" (v7406), function \"spm_run_norm>write_norm\" at line 111.\n",
      "In file \"/home/remi/matlab/SPM/spm12/config/spm_run_norm.m\" (v7406), function \"spm_run_norm\" at line 29.\n",
      "\n",
      "01-Nov-2020 08:56:57 - Running 'Normalise: Write'\n",
      "01-Nov-2020 08:56:57 - Failed  'Normalise: Write'\n",
      "file2mat.c not compiled - see Makefile\n",
      "In file \"/home/remi/matlab/SPM/spm12/@file_array/private/file2mat.m\" (v7147), function \"file2mat\" at line 16.\n",
      "In file \"/home/remi/matlab/SPM/spm12/@file_array/subsref.m\" (v7439), function \"subsref>multifile2mat\" at line 179.\n",
      "In file \"/home/remi/matlab/SPM/spm12/@file_array/subsref.m\" (v7439), function \"subsref>subfun\" at line 99.\n"
     ]
    },
    {
     "name": "stdout",
     "output_type": "stream",
     "text": [
      "In file \"/home/remi/matlab/SPM/spm12/@file_array/subsref.m\" (v7439), function \"subsref\" at line 65.\n",
      "In file \"/home/remi/matlab/SPM/spm12/@nifti/subsref.m\" (v7147), function \"subsref>rec\" at line 221.\n",
      "In file \"/home/remi/matlab/SPM/spm12/@nifti/subsref.m\" (v7147), function \"subsref\" at line 45.\n",
      "In file \"/home/remi/matlab/SPM/spm12/spm_deformations.m\" (v6577), function \"spm_deformations>get_def\" at line 192.\n",
      "In file \"/home/remi/matlab/SPM/spm12/spm_deformations.m\" (v6577), function \"spm_deformations>get_job\" at line 78.\n",
      "In file \"/home/remi/matlab/SPM/spm12/spm_deformations.m\" (v6577), function \"spm_deformations>get_comp\" at line 48.\n",
      "In file \"/home/remi/matlab/SPM/spm12/spm_deformations.m\" (v6577), function \"spm_deformations\" at line 17.\n",
      "In file \"/home/remi/matlab/SPM/spm12/config/spm_run_norm.m\" (v7406), function \"spm_run_norm>write_norm\" at line 111.\n",
      "In file \"/home/remi/matlab/SPM/spm12/config/spm_run_norm.m\" (v7406), function \"spm_run_norm\" at line 29.\n",
      "\n",
      "01-Nov-2020 08:56:57 - Running 'Normalise: Write'\n",
      "01-Nov-2020 08:56:58 - Failed  'Normalise: Write'\n",
      "file2mat.c not compiled - see Makefile\n",
      "In file \"/home/remi/matlab/SPM/spm12/@file_array/private/file2mat.m\" (v7147), function \"file2mat\" at line 16.\n",
      "In file \"/home/remi/matlab/SPM/spm12/@file_array/subsref.m\" (v7439), function \"subsref>multifile2mat\" at line 179.\n",
      "In file \"/home/remi/matlab/SPM/spm12/@file_array/subsref.m\" (v7439), function \"subsref>subfun\" at line 99.\n",
      "In file \"/home/remi/matlab/SPM/spm12/@file_array/subsref.m\" (v7439), function \"subsref\" at line 65.\n",
      "In file \"/home/remi/matlab/SPM/spm12/@nifti/subsref.m\" (v7147), function \"subsref>rec\" at line 221.\n",
      "In file \"/home/remi/matlab/SPM/spm12/@nifti/subsref.m\" (v7147), function \"subsref\" at line 45.\n",
      "In file \"/home/remi/matlab/SPM/spm12/spm_deformations.m\" (v6577), function \"spm_deformations>get_def\" at line 192.\n",
      "In file \"/home/remi/matlab/SPM/spm12/spm_deformations.m\" (v6577), function \"spm_deformations>get_job\" at line 78.\n",
      "In file \"/home/remi/matlab/SPM/spm12/spm_deformations.m\" (v6577), function \"spm_deformations>get_comp\" at line 48.\n",
      "In file \"/home/remi/matlab/SPM/spm12/spm_deformations.m\" (v6577), function \"spm_deformations\" at line 17.\n",
      "In file \"/home/remi/matlab/SPM/spm12/config/spm_run_norm.m\" (v7406), function \"spm_run_norm>write_norm\" at line 111.\n",
      "In file \"/home/remi/matlab/SPM/spm12/config/spm_run_norm.m\" (v7406), function \"spm_run_norm\" at line 29.\n",
      "\n",
      "The following modules did not run:\n",
      "Failed: Normalise: Write\n",
      "Failed: Normalise: Write\n",
      "Failed: Normalise: Write\n",
      "Failed: Normalise: Write\n",
      "Failed: Normalise: Write\n",
      "\n",
      "error: Job execution failed. The full log of this run can be found in MATLAB command window, starting with the lines (look for the line showing the exact #job as displayed in this error message)\n",
      "------------------ \n",
      "Running job #1\n",
      "------------------\n"
     ]
    }
   ],
   "source": [
    "% Be patient this one takes a while\n",
    "bidsSpatialPrepro(opt);\n",
    "\n",
    "% The following do not run on octave for now (because of spmup)\n",
    "% anatomicalQA(opt);\n",
    "% bidsResliceTpmToFunc(opt);\n",
    "% functionalQA(opt);\n"
   ]
  },
  {
   "cell_type": "code",
   "execution_count": null,
   "metadata": {},
   "outputs": [],
   "source": [
    "% Smoothing to apply\n",
    "FWHM = 6;\n",
    "bidsSmoothing(FWHM, opt);"
   ]
  },
  {
   "cell_type": "code",
   "execution_count": null,
   "metadata": {},
   "outputs": [],
   "source": [
    "bidsFFX('specifyAndEstimate', opt, FWHM);\n",
    "bidsFFX('contrasts', opt, FWHM);\n",
    "bidsResults(opt, FWHM);"
   ]
  }
 ],
 "metadata": {
  "kernelspec": {
   "display_name": "Octave",
   "language": "octave",
   "name": "octave"
  },
  "language_info": {
   "file_extension": ".m",
   "help_links": [
    {
     "text": "GNU Octave",
     "url": "https://www.gnu.org/software/octave/support.html"
    },
    {
     "text": "Octave Kernel",
     "url": "https://github.com/Calysto/octave_kernel"
    },
    {
     "text": "MetaKernel Magics",
     "url": "https://metakernel.readthedocs.io/en/latest/source/README.html"
    }
   ],
   "mimetype": "text/x-octave",
   "name": "octave",
   "version": "4.2.2"
  }
 },
 "nbformat": 4,
 "nbformat_minor": 4
}
